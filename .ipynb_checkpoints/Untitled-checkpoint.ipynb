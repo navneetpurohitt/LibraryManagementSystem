{
 "cells": [
  {
   "cell_type": "code",
   "execution_count": 2,
   "metadata": {},
   "outputs": [
    {
     "name": "stdout",
     "output_type": "stream",
     "text": [
      "**************************************************\n",
      "1.>  Insert Book\n",
      "2.>  Display Book List\n",
      "3.>  Book Search\n",
      "4.>  Book Issue\n",
      "5.>  Book Return\n",
      "6.>  Delete Book Record\n",
      "7.>  Insert New Student\n",
      "8.>  Display Student List\n",
      "9.>  Student Search\n",
      "10.> Delete Student Record\n",
      "11.> Insert New Faculty\n",
      "12.> Display Faculty\n",
      "13.> Faculty Search\n",
      "14.> Delete Faculty\n",
      "0> Exit\n",
      "\n",
      "**************************************************\n",
      "Enter Your Choice: 0\n"
     ]
    },
    {
     "ename": "SystemExit",
     "evalue": "0",
     "output_type": "error",
     "traceback": [
      "An exception has occurred, use %tb to see the full traceback.\n",
      "\u001b[1;31mSystemExit\u001b[0m\u001b[1;31m:\u001b[0m 0\n"
     ]
    },
    {
     "name": "stderr",
     "output_type": "stream",
     "text": [
      "D:\\ProgramData\\Anaconda3\\lib\\site-packages\\IPython\\core\\interactiveshell.py:3275: UserWarning: To exit: use 'exit', 'quit', or Ctrl-D.\n",
      "  warn(\"To exit: use 'exit', 'quit', or Ctrl-D.\", stacklevel=1)\n"
     ]
    }
   ],
   "source": [
    "from function import *\n",
    "import sys\n",
    "def BooksMain():\n",
    "    while True:\n",
    "        print(\"*\"*50)\n",
    "        print(\"1.>  Insert Book\")\n",
    "        print(\"2.>  Display Book List\")\n",
    "        print(\"3.>  Book Search\")\n",
    "        print(\"4.>  Book Issue\")\n",
    "        print(\"5.>  Book Return\")\n",
    "        print(\"6.>  Delete Book Record\")\n",
    "        print(\"7.>  Insert New Student\")\n",
    "        print(\"8.>  Display Student List\")\n",
    "        print(\"9.>  Student Search\")\n",
    "        print(\"10.> Delete Student Record\")\n",
    "        print(\"11.> Insert New Faculty\")\n",
    "        print(\"12.> Display Faculty\")\n",
    "        print(\"13.> Faculty Search\")\n",
    "        print(\"14.> Delete Faculty\")\n",
    "        print(\"0> Exit\\n\")\n",
    "        print(\"*\" * 50)\n",
    "        n = int(input(\"Enter Your Choice: \"))\n",
    "        if n==1:\n",
    "            bookStore()\n",
    "        elif n==2:\n",
    "            displayBooks()\n",
    "        elif n==3:\n",
    "            bookSearch()\n",
    "        elif n==4:\n",
    "            bookIssue()\n",
    "        elif n==5:\n",
    "            bookReturn()\n",
    "        elif n==6:\n",
    "            bookDelete()\n",
    "        elif n==7:\n",
    "            inputStudent()\n",
    "        elif n==8:\n",
    "            displayStudent()\n",
    "        elif n==9:\n",
    "            studentSearch()\n",
    "        elif n==10:\n",
    "            studentDelete()\n",
    "        elif n==11:\n",
    "            inputFaculty()\n",
    "        elif n==12:\n",
    "            displayFaculty()\n",
    "        elif n==13:\n",
    "            facultySearch()\n",
    "        elif n==14:\n",
    "            facultyDelete()    \n",
    "        elif n==0:\n",
    "            sys.exit(0)\n",
    "        else:\n",
    "            print(\"Invalid Option\")\n",
    "\n",
    "BooksMain()"
   ]
  },
  {
   "cell_type": "code",
   "execution_count": null,
   "metadata": {},
   "outputs": [],
   "source": [
    "\n"
   ]
  },
  {
   "cell_type": "code",
   "execution_count": null,
   "metadata": {},
   "outputs": [],
   "source": []
  }
 ],
 "metadata": {
  "kernelspec": {
   "display_name": "Python 3",
   "language": "python",
   "name": "python3"
  },
  "language_info": {
   "codemirror_mode": {
    "name": "ipython",
    "version": 3
   },
   "file_extension": ".py",
   "mimetype": "text/x-python",
   "name": "python",
   "nbconvert_exporter": "python",
   "pygments_lexer": "ipython3",
   "version": "3.7.1"
  }
 },
 "nbformat": 4,
 "nbformat_minor": 2
}
